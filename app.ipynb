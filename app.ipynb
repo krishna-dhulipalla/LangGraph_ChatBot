{
 "cells": [
  {
   "cell_type": "code",
   "execution_count": 2,
   "id": "6437100e",
   "metadata": {},
   "outputs": [
    {
     "data": {
      "text/plain": [
       "True"
      ]
     },
     "execution_count": 2,
     "metadata": {},
     "output_type": "execute_result"
    }
   ],
   "source": [
    "import os\n",
    "import json\n",
    "import re\n",
    "import hashlib\n",
    "import numpy as np\n",
    "from collections import defaultdict\n",
    "from pathlib import Path\n",
    "from threading import Lock\n",
    "from typing import TypedDict, Annotated, Sequence, Dict, Optional, List, Literal, Type\n",
    "from uuid import uuid4\n",
    "from dotenv import load_dotenv\n",
    "load_dotenv()"
   ]
  },
  {
   "cell_type": "code",
   "execution_count": 3,
   "id": "309266a4",
   "metadata": {},
   "outputs": [],
   "source": [
    "from langchain_core.messages import BaseMessage, ToolMessage, SystemMessage\n",
    "from langchain_core.tools import tool\n",
    "from langchain_openai import ChatOpenAI\n",
    "from langchain_core.output_parsers import StrOutputParser\n",
    "# from langchain_core.prompts import ChatPromptTemplate\n",
    "from langchain_huggingface import HuggingFaceEmbeddings\n",
    "from langchain_community.vectorstores import FAISS\n",
    "from langchain_community.retrievers import BM25Retriever\n",
    "from langchain_nvidia_ai_endpoints import ChatNVIDIA\n",
    "from langgraph.graph.message import add_messages\n",
    "from langgraph.graph import StateGraph, START, END\n",
    "from langgraph.prebuilt import ToolNode\n",
    "from langgraph.checkpoint.memory import MemorySaver"
   ]
  },
  {
   "cell_type": "code",
   "execution_count": 4,
   "id": "c3bfc566",
   "metadata": {},
   "outputs": [],
   "source": [
    "api_key = os.environ.get(\"NVIDIA_API_KEY\")\n",
    "if not api_key:\n",
    "    raise RuntimeError(\"🚨 NVIDIA_API_KEY not found in environment!\")"
   ]
  },
  {
   "cell_type": "code",
   "execution_count": 5,
   "id": "c2b25c54",
   "metadata": {},
   "outputs": [],
   "source": [
    "# Constants\n",
    "FAISS_PATH = \"data/faiss_store/v64_600-150\"\n",
    "CHUNKS_PATH = \"data/all_chunks.json\""
   ]
  },
  {
   "cell_type": "code",
   "execution_count": 6,
   "id": "9e567842",
   "metadata": {},
   "outputs": [],
   "source": [
    "# Validate files\n",
    "if not Path(FAISS_PATH).exists():\n",
    "    raise FileNotFoundError(f\"FAISS index not found at {FAISS_PATH}\")\n",
    "if not Path(CHUNKS_PATH).exists():\n",
    "    raise FileNotFoundError(f\"Chunks file not found at {CHUNKS_PATH}\")"
   ]
  },
  {
   "cell_type": "code",
   "execution_count": 7,
   "id": "1675322b",
   "metadata": {},
   "outputs": [],
   "source": [
    "KRISHNA_BIO = \"\"\"Krishna Vamsi Dhulipalla completed masters in Computer Science at Virginia Tech, awarded degree in december 2024, with over 3 years of experience across data engineering, machine learning research, and real-time analytics. He specializes in building scalable data systems and intelligent LLM-powered applications, with strong expertise in Python, PyTorch, Hugging Face Transformers, and end-to-end ML pipelines.\n",
    "He has led projects involving retrieval-augmented generation (RAG), feature selection for genomic classification, fine-tuning domain-specific LLMs (e.g., DNABERT, HyenaDNA), and real-time forecasting systems using Kafka, Spark, and Airflow. His cloud proficiency spans AWS (S3, SageMaker, ECS, CloudWatch), GCP (BigQuery, Cloud Composer), and DevOps tools like Docker, Kubernetes, and MLflow.\n",
    "Krishna’s research has focused on genomic sequence modeling, transformer optimization, MLOps automation, and cross-domain generalization. He has published work in bioinformatics and machine learning applications for circadian transcription prediction and transcription factor binding.\n",
    "He holds certifications in NVIDIA’s RAG Agents with LLMs, Google Cloud Data Engineering, and AWS ML Specialization. Krishna is passionate about scalable LLM infrastructure, data-centric AI, and domain-adaptive ML solutions — combining deep technical expertise with real-world engineering impact.\n",
    "\\n\\n\n",
    "Beside carrer, Krishna loves hiking, cricket, and exploring new technologies. He is big fan of Marvel Movies and Space exploration.\n",
    "\"\"\""
   ]
  },
  {
   "cell_type": "code",
   "execution_count": 8,
   "id": "62e79289",
   "metadata": {},
   "outputs": [],
   "source": [
    "# Load resources\n",
    "def load_chunks(path=CHUNKS_PATH) -> List[Dict]:\n",
    "    with open(path, \"r\", encoding=\"utf-8\") as f:\n",
    "        return json.load(f)\n",
    "\n",
    "def load_faiss(path=FAISS_PATH, model_name=\"sentence-transformers/all-MiniLM-L6-v2\") -> FAISS:\n",
    "    embeddings = HuggingFaceEmbeddings(model_name=model_name)\n",
    "    return FAISS.load_local(path, embeddings, allow_dangerous_deserialization=True)"
   ]
  },
  {
   "cell_type": "code",
   "execution_count": 9,
   "id": "294e0e9b",
   "metadata": {},
   "outputs": [
    {
     "name": "stderr",
     "output_type": "stream",
     "text": [
      "c:\\Users\\vamsi\\OneDrive\\Desktop\\LangGraph\\env\\Lib\\site-packages\\tqdm\\auto.py:21: TqdmWarning: IProgress not found. Please update jupyter and ipywidgets. See https://ipywidgets.readthedocs.io/en/stable/user_install.html\n",
      "  from .autonotebook import tqdm as notebook_tqdm\n"
     ]
    }
   ],
   "source": [
    "vectorstore = load_faiss()\n",
    "all_chunks = load_chunks()\n",
    "all_texts = [chunk[\"text\"] for chunk in all_chunks]\n",
    "metadatas = [chunk[\"metadata\"] for chunk in all_chunks]\n",
    "bm25_retriever = BM25Retriever.from_texts(texts=all_texts, metadatas=metadatas)"
   ]
  },
  {
   "cell_type": "code",
   "execution_count": 10,
   "id": "f5e5c86b",
   "metadata": {},
   "outputs": [],
   "source": [
    "K_PER_QUERY    = 8         # how many from each retriever\n",
    "TOP_K          = 8         # final results to return\n",
    "RRF_K          = 60        # reciprocal-rank-fusion constant\n",
    "RERANK_TOP_N   = 50        # rerank this many fused hits\n",
    "MMR_LAMBDA     = 0.7       # 0..1 (higher favors query relevance; lower favors diversity)\n",
    "CE_MODEL       = \"cross-encoder/ms-marco-MiniLM-L-6-v2\"\n",
    "ALPHA = 0.7"
   ]
  },
  {
   "cell_type": "code",
   "execution_count": 11,
   "id": "c92d2f3e",
   "metadata": {},
   "outputs": [
    {
     "name": "stderr",
     "output_type": "stream",
     "text": [
      "c:\\Users\\vamsi\\OneDrive\\Desktop\\LangGraph\\env\\Lib\\site-packages\\huggingface_hub\\file_download.py:143: UserWarning: `huggingface_hub` cache-system uses symlinks by default to efficiently store duplicated files but your machine does not support them in C:\\Users\\vamsi\\.cache\\huggingface\\hub\\models--cross-encoder--ms-marco-MiniLM-L-6-v2. Caching files will still work but in a degraded version that might require more space on your disk. This warning can be disabled by setting the `HF_HUB_DISABLE_SYMLINKS_WARNING` environment variable. For more details, see https://huggingface.co/docs/huggingface_hub/how-to-cache#limitations.\n",
      "To support symlinks on Windows, you either need to activate Developer Mode or to run Python as an administrator. In order to activate developer mode, see this article: https://docs.microsoft.com/en-us/windows/apps/get-started/enable-your-device-for-development\n",
      "  warnings.warn(message)\n",
      "Xet Storage is enabled for this repo, but the 'hf_xet' package is not installed. Falling back to regular HTTP download. For better performance, install the package with: `pip install huggingface_hub[hf_xet]` or `pip install hf_xet`\n"
     ]
    }
   ],
   "source": [
    "from sentence_transformers import CrossEncoder\n",
    "_cross_encoder = CrossEncoder(CE_MODEL)"
   ]
  },
  {
   "cell_type": "code",
   "execution_count": 12,
   "id": "aae2d763",
   "metadata": {},
   "outputs": [],
   "source": [
    "embeddings = HuggingFaceEmbeddings(\n",
    "        model_name=\"sentence-transformers/all-MiniLM-L6-v2\",\n",
    "        model_kwargs={\"device\": \"cpu\"},\n",
    "        encode_kwargs={\"normalize_embeddings\": True},\n",
    "    )"
   ]
  },
  {
   "cell_type": "code",
   "execution_count": 13,
   "id": "e1bcf244",
   "metadata": {},
   "outputs": [],
   "source": [
    "def _cosine_sim_matrix(A: np.ndarray, B: np.ndarray) -> np.ndarray:\n",
    "    # A: mxd, B: nxd, both should be L2-normalized\n",
    "    return A @ B.T\n",
    "\n",
    "def _l2_normalize(v: np.ndarray) -> np.ndarray:\n",
    "    n = np.linalg.norm(v, axis=1, keepdims=True) + 1e-12\n",
    "    return v / n\n",
    "\n",
    "def _mmr_select(query_vec: np.ndarray, cand_vecs: np.ndarray, k: int, mmr_lambda: float):\n",
    "    # returns list of selected indices using MMR\n",
    "    selected = []\n",
    "    remaining = list(range(cand_vecs.shape[0]))\n",
    "\n",
    "    # precompute similarities\n",
    "    q_sim = (cand_vecs @ query_vec.reshape(-1, 1)).ravel()  # cosine since normalized\n",
    "    doc_sims = _cosine_sim_matrix(cand_vecs, cand_vecs)\n",
    "\n",
    "    # pick first by highest query similarity\n",
    "    first = int(np.argmax(q_sim))\n",
    "    selected.append(first)\n",
    "    remaining.remove(first)\n",
    "\n",
    "    while remaining and len(selected) < k:\n",
    "        # for each remaining, compute MMR score = λ * Sim(q, d) - (1-λ) * max Sim(d, s in selected)\n",
    "        sub = np.array(remaining)\n",
    "        sim_to_selected = doc_sims[np.ix_(sub, selected)].max(axis=1)\n",
    "        mmr_scores = mmr_lambda * q_sim[sub] - (1.0 - mmr_lambda) * sim_to_selected\n",
    "        nxt = int(sub[np.argmax(mmr_scores)])\n",
    "        selected.append(nxt)\n",
    "        remaining.remove(nxt)\n",
    "\n",
    "    return selected"
   ]
  },
  {
   "cell_type": "code",
   "execution_count": null,
   "id": "d3cad454",
   "metadata": {},
   "outputs": [],
   "source": [
    "@tool(\"retriever\")\n",
    "def retriever(query: str) -> list[str]:\n",
    "    \"\"\"Retrieve relevant chunks from the profile using FAISS + BM25, fused with RRF.\"\"\"\n",
    "    # ensure both retrievers return K_PER_QUERY\n",
    "    # For BM25Retriever in LangChain this is usually `.k`\n",
    "    try:\n",
    "        bm25_retriever.k = K_PER_QUERY\n",
    "    except Exception:\n",
    "        pass\n",
    "\n",
    "    vec_hits = vectorstore.similarity_search_with_score(query, k=K_PER_QUERY)  # [(Document, score)]\n",
    "    bm_hits  = bm25_retriever.invoke(query)                                    # [Document]\n",
    "\n",
    "    # --- fuse via RRF (rank-only) ---\n",
    "    fused = defaultdict(lambda: {\n",
    "        \"rrf\": 0.0,\n",
    "        \"vec_rank\": None, \"bm_rank\": None,\n",
    "        \"content\": None, \"metadata\": None,\n",
    "    })\n",
    "\n",
    "    for rank, (doc, _score) in enumerate(vec_hits):\n",
    "        key = hashlib.md5(doc.page_content.encode(\"utf-8\")).hexdigest()\n",
    "        fused[key][\"rrf\"] += 1.0 / (rank + 1 + RRF_K)\n",
    "        fused[key][\"vec_rank\"] = rank\n",
    "        fused[key][\"content\"] = doc.page_content    # keep FULL text\n",
    "        fused[key][\"metadata\"] = getattr(doc, \"metadata\", {}) or {}\n",
    "\n",
    "    for rank, doc in enumerate(bm_hits):\n",
    "        key = hashlib.md5(doc.page_content.encode(\"utf-8\")).hexdigest()\n",
    "        fused[key][\"rrf\"] += 1.0 / (rank + 1 + RRF_K)\n",
    "        fused[key][\"bm_rank\"] = rank\n",
    "        fused[key][\"content\"] = doc.page_content    # keep FULL text\n",
    "        fused[key][\"metadata\"] = getattr(doc, \"metadata\", {}) or {}\n",
    "\n",
    "    items = list(fused.values())\n",
    "    items.sort(key=lambda x: x[\"rrf\"], reverse=True)\n",
    "\n",
    "    # --- cross-encoder rerank on top-N (keeps exact text; just reorders) ---\n",
    "    topN = items[:RERANK_TOP_N] if RERANK_TOP_N > 0 else items\n",
    "    try:\n",
    "        pairs = [(query, it[\"content\"] or \"\") for it in topN]\n",
    "        ce_scores = _cross_encoder.predict(pairs)  # higher is better\n",
    "        for it, s in zip(topN, ce_scores):\n",
    "            it[\"rerank\"] = float(s)\n",
    "        topN.sort(key=lambda x: x.get(\"rerank\", 0.0), reverse=True)\n",
    "    except Exception as e:\n",
    "        # if CE fails, fall back to RRF order\n",
    "        for it in topN:\n",
    "            it[\"rerank\"] = it[\"rrf\"]\n",
    "\n",
    "    # --- MMR diversity on the reranked list (uses your HF embeddings) ---\n",
    "    try:\n",
    "        # embed the query + candidates; normalize to cosine space\n",
    "        emb_fn = getattr(vectorstore, \"embedding_function\", embeddings)\n",
    "        q_vec  = np.array(emb_fn.embed_query(query), dtype=np.float32).reshape(1, -1)\n",
    "        d_vecs = np.array(emb_fn.embed_documents([it[\"content\"] or \"\" for it in topN]), dtype=np.float32)\n",
    "\n",
    "        q_vec  = _l2_normalize(q_vec)[0]     # (d,)\n",
    "        d_vecs = _l2_normalize(d_vecs)       # (N, d)\n",
    "\n",
    "        sel_idx = _mmr_select(q_vec, d_vecs, k=TOP_K, mmr_lambda=MMR_LAMBDA)\n",
    "        final_items = [topN[i] for i in sel_idx]\n",
    "    except Exception as e:\n",
    "        # fallback: take first TOP_K after rerank\n",
    "        final_items = topN[:TOP_K]\n",
    "\n",
    "    # --- return verbatim content, with soft dedupe by (source, first 300 normalized chars) ---\n",
    "    results = []\n",
    "    seen = set()\n",
    "    for it in final_items:\n",
    "        content = it[\"content\"] or \"\"\n",
    "        meta = it[\"metadata\"] or {}\n",
    "        source = meta.get(\"source\", \"\")\n",
    "\n",
    "        # fingerprint for dedupe (does NOT modify returned text)\n",
    "        clean = re.sub(r\"\\W+\", \"\", content.lower())[:300]\n",
    "        fp = (source, clean)\n",
    "        if fp in seen:\n",
    "            continue\n",
    "        seen.add(fp)\n",
    "        results.append(content)\n",
    "\n",
    "        if len(results) >= TOP_K:\n",
    "            break\n",
    "        \n",
    "    # optional: quick debug\n",
    "    from pprint import pprint\n",
    "    pprint([{\n",
    "        \"content\": i[\"content\"],\n",
    "      \"src\": (i[\"metadata\"] or {}).get(\"source\", \"\"),\n",
    "      \"rrf\": round(i[\"rrf\"], 6),\n",
    "      \"vec_rank\": i[\"vec_rank\"],\n",
    "      \"bm_rank\": i[\"bm_rank\"],\n",
    "    } for i in final_items], width=120)\n",
    "\n",
    "    return results"
   ]
  },
  {
   "cell_type": "code",
   "execution_count": 15,
   "id": "aa868d21",
   "metadata": {},
   "outputs": [],
   "source": [
    "tools = [ retriever ]"
   ]
  },
  {
   "cell_type": "code",
   "execution_count": 16,
   "id": "dde6e8a6",
   "metadata": {},
   "outputs": [],
   "source": [
    "model = ChatOpenAI(\n",
    "    model=\"gpt-4o\",              \n",
    "    temperature=0.3,             \n",
    "    openai_api_key=os.getenv(\"OPENAI_API_KEY\"),\n",
    "    streaming=True\n",
    ").bind_tools(tools)"
   ]
  },
  {
   "cell_type": "code",
   "execution_count": 17,
   "id": "1603d2f8",
   "metadata": {},
   "outputs": [],
   "source": [
    "class AgentState(TypedDict):\n",
    "    messages: Annotated[Sequence[BaseMessage], add_messages]"
   ]
  },
  {
   "cell_type": "code",
   "execution_count": 18,
   "id": "4ca0ca9b",
   "metadata": {},
   "outputs": [],
   "source": [
    "system_prompt = SystemMessage(\n",
    "    content=(\n",
    "        \"You are Krishna's personal AI assistant. \"\n",
    "        \"Use the retriever tool to fetch context about Krishna when the user asks about him. \"\n",
    "        \"Cite concrete facts from retrieved chunks (no fabrication).\"\n",
    "    )\n",
    ")"
   ]
  },
  {
   "cell_type": "code",
   "execution_count": 19,
   "id": "e11c5fc5",
   "metadata": {},
   "outputs": [],
   "source": [
    "def model_call(state: AgentState) -> AgentState:\n",
    "    \"\"\"Call the model with the current state messages.\"\"\"\n",
    "    msgs = [system_prompt, *state[\"messages\"]]\n",
    "    ai_msg = model.invoke(msgs)                 # returns an AIMessage with .tool_calls if any\n",
    "    return {\"messages\": [ai_msg]}"
   ]
  },
  {
   "cell_type": "code",
   "execution_count": 20,
   "id": "1347ca59",
   "metadata": {},
   "outputs": [],
   "source": [
    "def should_continue(state: AgentState) -> Literal[\"continue\", \"end\"]:\n",
    "    \"\"\"Determine if the agent should continue.\"\"\"\n",
    "    last_message = state[\"messages\"][-1]\n",
    "    if getattr(last_message, \"tool_calls\", None):\n",
    "        return \"continue\"\n",
    "    return \"end\""
   ]
  },
  {
   "cell_type": "code",
   "execution_count": 21,
   "id": "d7085258",
   "metadata": {},
   "outputs": [],
   "source": [
    "graph = StateGraph(AgentState)\n",
    "\n",
    "graph.add_node('agent', model_call)\n",
    "tools_node = ToolNode(tools=tools)\n",
    "graph.add_node('tools', tools_node)\n",
    "\n",
    "graph.add_edge(START, 'agent')\n",
    "graph.add_conditional_edges('agent', should_continue, {\n",
    "    \"continue\": 'tools',\n",
    "    \"end\": END})\n",
    "graph.add_edge('tools', 'agent')\n",
    "\n",
    "checkpointer = MemorySaver()  # dev-only; for prod use SQLite/Postgres\n",
    "app = graph.compile(checkpointer=checkpointer)"
   ]
  },
  {
   "cell_type": "code",
   "execution_count": 22,
   "id": "5324b57e",
   "metadata": {},
   "outputs": [
    {
     "data": {
      "image/png": "[encoded data removed]",
      "text/plain": [
       "<langgraph.graph.state.CompiledStateGraph object at 0x000002298D28B0D0>"
      ]
     },
     "execution_count": 22,
     "metadata": {},
     "output_type": "execute_result"
    }
   ],
   "source": [
    "app"
   ]
  },
  {
   "cell_type": "code",
   "execution_count": 23,
   "id": "741d3a49",
   "metadata": {},
   "outputs": [],
   "source": [
    "def print_stream(stream):\n",
    "    for s in stream:\n",
    "        message = s[\"messages\"][-1]\n",
    "        if isinstance(message, tuple):\n",
    "            print(message)\n",
    "        else:\n",
    "            message.pretty_print()"
   ]
  },
  {
   "cell_type": "code",
   "execution_count": 24,
   "id": "8ff97f3f",
   "metadata": {},
   "outputs": [],
   "source": [
    "def run_turn(thread_id: str, user_text: str):\n",
    "    config = {\"configurable\": {\"thread_id\": thread_id}}\n",
    "    final_text = \"\"\n",
    "    for s in app.stream({\"messages\": [(\"user\", user_text)]}, config=config, stream_mode=\"values\"):\n",
    "        msg = s[\"messages\"][-1]\n",
    "        # stream-friendly: accumulate only the latest AI message content if present\n",
    "        if getattr(msg, \"content\", None) and msg.type == \"ai\":\n",
    "            final_text = msg.content\n",
    "    return final_text"
   ]
  },
  {
   "cell_type": "code",
   "execution_count": 25,
   "id": "22a806f5",
   "metadata": {},
   "outputs": [
    {
     "name": "stdout",
     "output_type": "stream",
     "text": [
      "[{'bm_rank': None, 'rrf': 0.016393, 'src': 'xPersonal_Interests_Cleaned.md', 'vec_rank': 0},\n",
      " {'bm_rank': None, 'rrf': 0.016129, 'src': 'aprofile.md', 'vec_rank': 1},\n",
      " {'bm_rank': None, 'rrf': 0.015152, 'src': 'xPersonal_Interests_Cleaned.md', 'vec_rank': 5},\n",
      " {'bm_rank': None, 'rrf': 0.014706, 'src': 'aprofile.md', 'vec_rank': 7},\n",
      " {'bm_rank': 2, 'rrf': 0.015873, 'src': 'aprofile.md', 'vec_rank': None},\n",
      " {'bm_rank': None, 'rrf': 0.014925, 'src': 'xPersonal_Interests_Cleaned.md', 'vec_rank': 6},\n",
      " {'bm_rank': None, 'rrf': 0.015873, 'src': 'aprofile.md', 'vec_rank': 2},\n",
      " {'bm_rank': 5, 'rrf': 0.015152, 'src': 'aprofile.md', 'vec_rank': None}]\n",
      "Krishna Vamsi Dhulipalla is a Computer Science graduate student at Virginia Tech, expected to complete his Master of Engineering (M.Eng) in December 2024. He has over three years of experience in data engineering, machine learning research, and real-time analytics. His professional interests are focused on LLM-driven systems, genomic computing, and scalable AI infrastructure.\n",
      "\n",
      "Currently, Krishna works as a Data Scientist at Virginia Tech, where he leads the development of machine learning systems for biological data. He is also culturally open, celebrating a variety of Indian and global festivals, and enjoys exploring different cultural backgrounds.\n",
      "\n",
      "Krishna has a passion for food, with favorites including Mutton Biryani from Hyderabad, Indian milk sweets like Rasgulla and Kaju Katli, and classic burgers. His hobbies and passions outside of work keep him energized and curious.\n",
      "\n",
      "For more information, you can visit his [personal website](http://krishna-dhulipalla.github.io), [GitHub](https://github.com/Krishna-dhulipalla), or [LinkedIn](https://www.linkedin.com/in/krishnavamsidhulipalla). You can also contact him via email at dhulipallakrishnavamsi@gmail.com or phone at +1 (540) 558-3528.\n",
      "Krishna Vamsi Dhulipalla's favorite foods include a mix of traditional Indian dishes and international comfort foods. His favorites are:\n",
      "\n",
      "- **Mutton Biryani from Hyderabad** — Considered his gold standard of comfort food.\n",
      "- **Indian Milk Sweets** — Especially Rasgulla and Kaju Katli.\n",
      "- **Classic Burger** — The messier, the better.\n",
      "- **Puri with Aloo Sabzi** — A perfect nostalgic breakfast.\n",
      "- **Gulab Jamun** — Always room for dessert.\n"
     ]
    }
   ],
   "source": [
    "thread_id = str(uuid4())  # persist per user/session\n",
    "print(run_turn(thread_id, \"tell me about Krishna Vamsi Dhulipalla\"))\n",
    "print(run_turn(thread_id, \"what are his favorite foods?\"))"
   ]
  },
  {
   "cell_type": "code",
   "execution_count": null,
   "id": "fc535d37",
   "metadata": {},
   "outputs": [],
   "source": [
    "from fastapi import FastAPI, Request, Query\n",
    "from pydantic import BaseModel\n",
    "from sse_starlette.sse import EventSourceResponse"
   ]
  },
  {
   "cell_type": "code",
   "execution_count": null,
   "id": "4d817212",
   "metadata": {},
   "outputs": [],
   "source": [
    "api = FastAPI()\n",
    "\n",
    "# Optional CORS for local dev (if your UI runs on another port)\n",
    "from fastapi.middleware.cors import CORSMiddleware\n",
    "api.add_middleware(\n",
    "    CORSMiddleware,\n",
    "    allow_origins=[\"*\"],  # tighten for prod\n",
    "    allow_credentials=True,\n",
    "    allow_methods=[\"*\"],\n",
    "    allow_headers=[\"*\"],\n",
    ")"
   ]
  },
  {
   "cell_type": "code",
   "execution_count": null,
   "id": "fba095c4",
   "metadata": {},
   "outputs": [],
   "source": [
    "async def _event_stream(thread_id: str, message: str, request: Request):\n",
    "    \"\"\"Common streamer for GET/POST routes.\"\"\"\n",
    "    config = {\"configurable\": {\"thread_id\": thread_id}}\n",
    "\n",
    "    # You can emit the thread id up front; UI also accepts it at the end.\n",
    "    yield {\"event\": \"thread\", \"data\": thread_id}\n",
    "\n",
    "    try:\n",
    "        async for event in app.astream_events(\n",
    "            {\"messages\": [(\"user\", message)]},\n",
    "            config=config,\n",
    "            version=\"v2\",\n",
    "        ):\n",
    "            # Stream model tokens\n",
    "            if event[\"event\"] == \"on_chat_model_stream\":\n",
    "                chunk = event[\"data\"][\"chunk\"].content\n",
    "                # Guard: sometimes chunk is empty or a list of parts\n",
    "                if isinstance(chunk, list):\n",
    "                    # join any text parts if needed\n",
    "                    text = \"\".join(getattr(p, \"text\", \"\") or str(p) for p in chunk)\n",
    "                else:\n",
    "                    text = chunk or \"\"\n",
    "                if text:\n",
    "                    yield {\"event\": \"token\", \"data\": text}\n",
    "\n",
    "            # Optional: forward tool traces or other events if you want\n",
    "            # if event[\"event\"] == \"on_tool_end\": ...\n",
    "\n",
    "            # Client disconnected?\n",
    "            if await request.is_disconnected():\n",
    "                break\n",
    "    finally:\n",
    "        # Signal completion so UI can close cleanly\n",
    "        yield {\"event\": \"done\", \"data\": \"1\"}"
   ]
  },
  {
   "cell_type": "code",
   "execution_count": null,
   "id": "8107d680",
   "metadata": {},
   "outputs": [],
   "source": [
    "@api.get(\"/chat\")\n",
    "async def chat_get(\n",
    "    request: Request,\n",
    "    message: str = Query(...),\n",
    "    thread_id: Optional[str] = Query(None),\n",
    "):\n",
    "    tid = thread_id or str(uuid4())\n",
    "    return EventSourceResponse(_event_stream(tid, message, request))\n",
    "\n",
    "\n",
    "# ========== POST endpoint (for fetch/ReadableStream clients) ==========\n",
    "class ChatIn(BaseModel):\n",
    "    thread_id: Optional[str] = None\n",
    "    message: str"
   ]
  },
  {
   "cell_type": "code",
   "execution_count": null,
   "id": "bed93e87",
   "metadata": {},
   "outputs": [],
   "source": [
    "@api.post(\"/chat\")\n",
    "async def chat_post(body: ChatIn, request: Request):\n",
    "    tid = body.thread_id or str(uuid4())\n",
    "    return EventSourceResponse(_event_stream(tid, body.message, request))"
   ]
  }
 ],
 "metadata": {
  "kernelspec": {
   "display_name": "env",
   "language": "python",
   "name": "python3"
  },
  "language_info": {
   "codemirror_mode": {
    "name": "ipython",
    "version": 3
   },
   "file_extension": ".py",
   "mimetype": "text/x-python",
   "name": "python",
   "nbconvert_exporter": "python",
   "pygments_lexer": "ipython3",
   "version": "3.11.1"
  }
 },
 "nbformat": 4,
 "nbformat_minor": 5
}
